{
 "cells": [
  {
   "cell_type": "markdown",
   "metadata": {},
   "source": [
    "Please follow the instructions carefully. Write all your code in a `Code` cell, and your explanations in a `Markdown` cell. Make sure that your code compiles correctly either by selecting a given cell and clicking the `Run` button, or by hitting `shift`+`enter` or `shift`+`return`."
   ]
  },
  {
   "cell_type": "markdown",
   "metadata": {
    "colab_type": "text",
    "id": "MGS0XEWoL9er"
   },
   "source": [
    "### 1. Import `numpy`, `numpy.linalg`, `matplotlib.pyplot`, and `pandas`. Use the appropriate aliases when importing these modules."
   ]
  },
  {
   "cell_type": "code",
   "execution_count": 2,
   "metadata": {
    "colab": {
     "base_uri": "https://localhost:8080/",
     "height": 52
    },
    "colab_type": "code",
    "id": "KheDr_zDL9es",
    "outputId": "1db9f4d3-2e0d-4008-f78a-161ed52c4359"
   },
   "outputs": [],
   "source": [
    "# code for question 1\n",
    "import numpy as np\n",
    "import numpy.linalg as linalg\n",
    "import matplotlib.pyplot as plt\n",
    "import pandas as pd"
   ]
  },
  {
   "cell_type": "markdown",
   "metadata": {},
   "source": [
    "### 2. Load the data from the file named `data_stock_returns.csv` into a `DatFrame` called `returns`. The file `data_stock_returns.csv` contains daily returns of a number of stocks selected from the S&P 500 universe. The rows of the csv file represent the returns over a number of days, and the columns represent individual stocks labeled by their NYSE ticker symbol, e.g., Apple stock is labeled `AAPL`."
   ]
  },
  {
   "cell_type": "code",
   "execution_count": 3,
   "metadata": {},
   "outputs": [],
   "source": [
    "# code for question 2\n",
    "returns = pd.read_csv(\"data_stock_returns.csv\", index_col=0)"
   ]
  },
  {
   "cell_type": "markdown",
   "metadata": {},
   "source": [
    "### 3. View the `head` of the `returns` `DataFrame`"
   ]
  },
  {
   "cell_type": "code",
   "execution_count": 4,
   "metadata": {},
   "outputs": [
    {
     "name": "stdout",
     "output_type": "stream",
     "text": [
      "                ATVI      CHTR     CMCSA       CTL       DIS     DISCA  \\\n",
      "Date                                                                     \n",
      "2019-01-02  0.009829  0.010542  0.009354  0.018961 -0.006221  0.043115   \n",
      "2019-01-03 -0.036155 -0.001703  0.007825  0.004524 -0.024525 -0.005824   \n",
      "2019-01-04  0.039127  0.051651  0.033218  0.027974  0.030381  0.017754   \n",
      "2019-01-07  0.027806 -0.004204 -0.010668  0.021706  0.008630  0.014810   \n",
      "2019-01-08  0.029859 -0.002524  0.008152  0.025441  0.007748  0.026410   \n",
      "\n",
      "               DISCK      DISH        EA        FB  ...       NEE        NI  \\\n",
      "Date                                                ...                       \n",
      "2019-01-02  0.031979  0.035795  0.018333  0.034415  ... -0.023222 -0.011107   \n",
      "2019-01-03  0.002515  0.020651 -0.020871 -0.029469  ... -0.002476  0.001196   \n",
      "2019-01-04  0.019072  0.068034  0.070034  0.046061  ...  0.018249  0.017378   \n",
      "2019-01-07  0.014271  0.011252  0.036862  0.000725  ... -0.001450  0.005467   \n",
      "2019-01-08  0.020041  0.002793  0.016194  0.031937  ...  0.007287  0.018519   \n",
      "\n",
      "                 NRG       PEG       PNW       PPL        SO       SRE  \\\n",
      "Date                                                                     \n",
      "2019-01-02 -0.038352 -0.023718 -0.027728 -0.007796 -0.004564 -0.013306   \n",
      "2019-01-03 -0.009491 -0.000197  0.010085 -0.003564  0.014082  0.004579   \n",
      "2019-01-04  0.033601  0.010764  0.012229  0.030242  0.008310  0.029491   \n",
      "2019-01-07  0.009179  0.002139 -0.001890  0.001384 -0.002239 -0.000181   \n",
      "2019-01-08  0.015114  0.003878  0.014904  0.013059  0.028071  0.027595   \n",
      "\n",
      "                 WEC       XEL  \n",
      "Date                            \n",
      "2019-01-02 -0.024556 -0.021542  \n",
      "2019-01-03  0.002660 -0.003948  \n",
      "2019-01-04  0.007352  0.009738  \n",
      "2019-01-07 -0.004552 -0.004339  \n",
      "2019-01-08  0.010249  0.011530  \n",
      "\n",
      "[5 rows x 488 columns]\n"
     ]
    }
   ],
   "source": [
    "# code for question 3\n",
    "print(returns.head())"
   ]
  },
  {
   "cell_type": "markdown",
   "metadata": {},
   "source": [
    "### 4. View the `tail` of the `returns` `DataFrame`"
   ]
  },
  {
   "cell_type": "code",
   "execution_count": 5,
   "metadata": {},
   "outputs": [
    {
     "name": "stdout",
     "output_type": "stream",
     "text": [
      "                ATVI      CHTR     CMCSA       CTL       DIS     DISCA  \\\n",
      "Date                                                                     \n",
      "2019-12-24 -0.001359  0.000291  0.009703 -0.002277  0.004207  0.003943   \n",
      "2019-12-26  0.001359  0.010077  0.009833 -0.003807  0.002818  0.007540   \n",
      "2019-12-27  0.005081 -0.004209  0.002887  0.023371  0.000343 -0.004517   \n",
      "2019-12-30 -0.005251 -0.001262  0.001772 -0.024134 -0.013678 -0.011231   \n",
      "2019-12-31  0.009129  0.004132 -0.004659  0.008362  0.005964 -0.000611   \n",
      "\n",
      "               DISCK      DISH        EA        FB  ...       NEE        NI  \\\n",
      "Date                                                ...                       \n",
      "2019-12-24  0.007496  0.001956  0.007026 -0.005154  ...  0.007219 -0.000729   \n",
      "2019-12-26  0.004212  0.008617 -0.000369  0.012933  ...  0.006011 -0.002921   \n",
      "2019-12-27 -0.005511 -0.004994 -0.000738  0.001491  ...  0.002271 -0.002196   \n",
      "2019-12-30 -0.008161 -0.015700 -0.013930 -0.017891  ... -0.005043  0.008393   \n",
      "2019-12-31 -0.000656  0.002258  0.005409  0.004101  ...  0.003599  0.011561   \n",
      "\n",
      "                 NRG       PEG       PNW       PPL        SO       SRE  \\\n",
      "Date                                                                     \n",
      "2019-12-24 -0.004752 -0.001537 -0.001350 -0.001122 -0.002057  0.000598   \n",
      "2019-12-26 -0.016684  0.002049  0.001012 -0.002530  0.000633  0.006418   \n",
      "2019-12-27  0.000000 -0.000853 -0.001125 -0.000281  0.004580  0.001446   \n",
      "2019-12-30  0.000000  0.001535  0.004492  0.004214 -0.001893  0.001192   \n",
      "2019-12-31  0.013168  0.006456  0.007590  0.005870  0.005667  0.002843   \n",
      "\n",
      "                 WEC       XEL  \n",
      "Date                            \n",
      "2019-12-24  0.001529  0.003905  \n",
      "2019-12-26  0.001418 -0.001114  \n",
      "2019-12-27  0.006085  0.005242  \n",
      "2019-12-30 -0.001518  0.002690  \n",
      "2019-12-31  0.000651  0.003155  \n",
      "\n",
      "[5 rows x 488 columns]\n"
     ]
    }
   ],
   "source": [
    "# code for question 4\n",
    "print(returns.tail())"
   ]
  },
  {
   "cell_type": "markdown",
   "metadata": {},
   "source": [
    "### 5. How many stocks are in this `DataFrame`?"
   ]
  },
  {
   "cell_type": "code",
   "execution_count": 6,
   "metadata": {},
   "outputs": [
    {
     "name": "stdout",
     "output_type": "stream",
     "text": [
      "488\n"
     ]
    }
   ],
   "source": [
    "# code for question 5\n",
    "print(len(returns.columns)) \n",
    "# I checked my answers in excel. \n",
    "#There are exactly 488 columns if we omit the first column which is the date."
   ]
  },
  {
   "cell_type": "markdown",
   "metadata": {},
   "source": [
    "**ANSWER FOR QUESTION 5**: There are 488 stocks"
   ]
  },
  {
   "cell_type": "markdown",
   "metadata": {},
   "source": [
    "### 6. Over how many days are these stock returns reported?"
   ]
  },
  {
   "cell_type": "code",
   "execution_count": 7,
   "metadata": {},
   "outputs": [
    {
     "name": "stdout",
     "output_type": "stream",
     "text": [
      "252\n"
     ]
    }
   ],
   "source": [
    "# code for question 6\n",
    "print(len(returns))\n",
    "# I checked my answers in excel. \n",
    "#There are exactly 252 row if we omit the first row."
   ]
  },
  {
   "cell_type": "raw",
   "metadata": {},
   "source": [
    "**ANSWER FOR QUESTION 6**: Over 252 days"
   ]
  },
  {
   "cell_type": "markdown",
   "metadata": {},
   "source": [
    "### 7. Extract the returns of the Amazon stock only, which has a ticker symbol `AMZN`. Save it in a `Series` called `amzn_returns`."
   ]
  },
  {
   "cell_type": "code",
   "execution_count": 8,
   "metadata": {},
   "outputs": [],
   "source": [
    "# code for question 7\n",
    "amzn_returns = returns[\"AMZN\"]"
   ]
  },
  {
   "cell_type": "markdown",
   "metadata": {},
   "source": [
    "### 8. Plot the Amazon stock returns extracted in the above cell. "
   ]
  },
  {
   "cell_type": "code",
   "execution_count": 9,
   "metadata": {},
   "outputs": [
    {
     "data": {
      "text/plain": [
       "<AxesSubplot:xlabel='Date'>"
      ]
     },
     "execution_count": 9,
     "metadata": {},
     "output_type": "execute_result"
    },
    {
     "data": {
      "image/png": "[encoded data removed]",
      "text/plain": [
       "<Figure size 432x288 with 1 Axes>"
      ]
     },
     "metadata": {
      "needs_background": "light"
     },
     "output_type": "display_data"
    }
   ],
   "source": [
    "# code for question 8\n",
    "amzn_returns.plot()"
   ]
  },
  {
   "cell_type": "markdown",
   "metadata": {},
   "source": [
    "### 9. Plot the cumulative sum of the Amazon stock returns using the method `.cumsum()` which acts directly on the `amzn_returns` `Series`."
   ]
  },
  {
   "cell_type": "code",
   "execution_count": 10,
   "metadata": {},
   "outputs": [
    {
     "data": {
      "text/plain": [
       "[<matplotlib.lines.Line2D at 0x7f82d0a5f0a0>]"
      ]
     },
     "execution_count": 10,
     "metadata": {},
     "output_type": "execute_result"
    },
    {
     "data": {
      "image/png": "[encoded data removed]",
      "text/plain": [
       "<Figure size 432x288 with 1 Axes>"
      ]
     },
     "metadata": {
      "needs_background": "light"
     },
     "output_type": "display_data"
    }
   ],
   "source": [
    "# code for question 9\n",
    "plt.plot(amzn_returns.cumsum())"
   ]
  },
  {
   "cell_type": "code",
   "execution_count": 14,
   "metadata": {},
   "outputs": [],
   "source": [
    "# the module below will allow us to perform linear regression\n",
    "import statsmodels.api as sm"
   ]
  },
  {
   "cell_type": "markdown",
   "metadata": {},
   "source": [
    "The function `lin_reg(x,y)` given below performs ordinary least squares (OLS) linear regression using `sm.OLS` from the `statsmodels.api` module.\n",
    "\n",
    "The code enclosed in `''' '''` is the docstring of the function `lin_reg`.\n",
    "\n",
    "`x` in the `lin_reg` function is a matrix that contains the regressors, and `y` represents the vector containing the dependent variable. Note that `x` might contain one vector or multiple vectors. In the case that `x` contains one vector $x$, the regression gives:\n",
    "\n",
    "$$ y = \\beta_0 + \\beta_1 x $$\n",
    "\n",
    "In the case that `x` contains multiple vectors $x_1, \\dots, x_k$, the regression becomes:\n",
    "\n",
    "$$ y = \\beta_0 + \\beta_1 x_1 + \\dots + \\beta_k x_k$$\n",
    "\n",
    "The $\\beta$'s are the regression coefficients obtained using least squares. Note that `sm.add_constant` is used in the function below to make `x` look like the matrix $A$ we use in least squares, whose first column contains all ones."
   ]
  },
  {
   "cell_type": "code",
   "execution_count": 12,
   "metadata": {},
   "outputs": [],
   "source": [
    "def lin_reg(x, y):\n",
    "    '''\n",
    "    oridinary linear regression using least-squares\n",
    "    \n",
    "    Parameters\n",
    "    ----------  \n",
    "    x: regressors (numpy array)\n",
    "    y: dependent variable (numpy array)\n",
    "    \n",
    "    Returns\n",
    "    -------\n",
    "    coefficients: regression coefficients (pandas Series)\n",
    "    residuals: regression residuals (numpy array)\n",
    "    r_squared: correlation coefficient (float)\n",
    "    \n",
    "    '''\n",
    "    x = sm.add_constant(x)\n",
    "    model = sm.OLS(y, x).fit()\n",
    "    coefficients = model.params\n",
    "    residuals = model.resid\n",
    "    r_squared = model.rsquared\n",
    "    return coefficients, residuals, r_squared"
   ]
  },
  {
   "cell_type": "markdown",
   "metadata": {},
   "source": [
    "### 10. Let's try to use the obove function. Extract (as numpy array) the stock returns of:\n",
    "\n",
    "- Apple (ticker symbol `AAPL`) and call it `aapl`\n",
    "- Intel (ticker symbol `INTC`) and call it `intc`\n",
    "- Microsoft (ticker symbol `MSFT`) and call it `msft`\n",
    "- IBM (ticker symbol `IBM`) and call it `ibm`\n",
    "\n",
    "### Let `y` be the Apple stock returns, and `x` be the Intel stock returns. Use the `lin_reg` function defined above to find $y=\\beta_0 + \\beta_1 x$. "
   ]
  },
  {
   "cell_type": "code",
   "execution_count": 15,
   "metadata": {},
   "outputs": [],
   "source": [
    "# code for question 10\n",
    "y = returns['AAPL'].values\n",
    "x = returns['INTC'].values\n",
    "coefficients,residuals,r_squared = lin_reg(x,y)\n",
    "line1 = coefficients[0]+coefficients[1]*x"
   ]
  },
  {
   "cell_type": "markdown",
   "metadata": {},
   "source": [
    "### 11. Plot the cumulative sum of the Apple returns prediction from least squares on top of the actual Apple returns. How well do the Intel stock returns describe the Apple stock returns?"
   ]
  },
  {
   "cell_type": "code",
   "execution_count": 16,
   "metadata": {},
   "outputs": [
    {
     "data": {
      "text/plain": [
       "[<matplotlib.lines.Line2D at 0x7f82980ec4f0>]"
      ]
     },
     "execution_count": 16,
     "metadata": {},
     "output_type": "execute_result"
    },
    {
     "data": {
      "image/png": "[encoded data removed]",
      "text/plain": [
       "<Figure size 432x288 with 1 Axes>"
      ]
     },
     "metadata": {
      "needs_background": "light"
     },
     "output_type": "display_data"
    }
   ],
   "source": [
    "# code for question 11\n",
    "aapl = returns['AAPL'].to_numpy()\n",
    "plt.plot(aapl.cumsum())\n",
    "plt.plot(line1.cumsum())"
   ]
  },
  {
   "cell_type": "markdown",
   "metadata": {},
   "source": [
    "### 12. Now, let `y` be the Apple stock returns, and `x` be the Intel, Microsoft, and IBM stock returns. Use the `lin_reg` function defined above to find $y=\\beta_0 + \\beta_1 x_1 + \\beta_2 x_2 + \\beta_3 x_3$, where $x_1$ represents Intel returns, $x_2$ represents Microsoft returns, and $x_3$ represents IBM returns. "
   ]
  },
  {
   "cell_type": "code",
   "execution_count": 17,
   "metadata": {},
   "outputs": [],
   "source": [
    "# code for question 12\n",
    "y = returns['AAPL'].values\n",
    "ibm = returns['IBM'].values\n",
    "intc = returns ['INTC'].values\n",
    "msft = returns['MSFT'].values\n",
    "x = returns [['INTC','MSFT','IBM']].values\n",
    "coefficients,residuals,r_squared = lin_reg(x,y)\n",
    "line2 = coefficients[0] + intc*coefficients[1] + msft*coefficients[2] + ibm*coefficients[3]"
   ]
  },
  {
   "cell_type": "markdown",
   "metadata": {},
   "source": [
    "### 13. Plot the cumulative sum of the Apple returns prediction from least squares on top of the cumulative sum of actual Apple returns. How well do the Intel, Microsoft, and IBM stock returns describe the Apple stock returns?"
   ]
  },
  {
   "cell_type": "code",
   "execution_count": 18,
   "metadata": {},
   "outputs": [
    {
     "data": {
      "text/plain": [
       "[<matplotlib.lines.Line2D at 0x7f82f114ac40>]"
      ]
     },
     "execution_count": 18,
     "metadata": {},
     "output_type": "execute_result"
    },
    {
     "data": {
      "image/png": "[encoded data removed]",
      "text/plain": [
       "<Figure size 432x288 with 1 Axes>"
      ]
     },
     "metadata": {
      "needs_background": "light"
     },
     "output_type": "display_data"
    }
   ],
   "source": [
    "# code for question 13\n",
    "plt.plot(aapl.cumsum())\n",
    "plt.plot(line2.cumsum())"
   ]
  },
  {
   "cell_type": "markdown",
   "metadata": {},
   "source": [
    "Answer for Question 13:\n",
    "\n",
    "The R square value is 0.47. Line 2 shows a weaker correlation than Line 1. It is difficult to quantify \"how well.\" It can be conlcuded that Intel, Microsoft and IBM stock returns describle worse than line 1 do."
   ]
  },
  {
   "cell_type": "markdown",
   "metadata": {},
   "source": [
    "The file `SPY.csv` contains the prices of SPDR S&P 500 ETF Trust. This Exchage Traded Fund (ETF) contains a collection of assets currently present in the S&P 500 index. \n",
    "\n",
    "### 14. Load `SPY.csv` into a DataFrame called `spy_prices` using the `read_csv` method in `pandas`. Make sure to make the 'Date' column to be your index column. To do that, read the docstring for `read_csv`. "
   ]
  },
  {
   "cell_type": "code",
   "execution_count": 99,
   "metadata": {},
   "outputs": [],
   "source": [
    "# code for question 14\n",
    "spy_prices = pd.read_csv(\"SPY.csv\",index_col=0)"
   ]
  },
  {
   "cell_type": "markdown",
   "metadata": {},
   "source": [
    "### 15. Once you have downloaded the file into the `DataFrame`, observe all the available prices and dates. Show the head of the `DataFrame`, and then answer the following questions:\n",
    "\n",
    "(a) Which prices are reported?\n",
    "\n",
    "Answer to 15(a): High, Low, Open, Close, Volume, Adj Close\n",
    "\n",
    "(b) From which date to which date are these prices reported?\n",
    "\n",
    "From 2015-01-02 to 2015-01-08"
   ]
  },
  {
   "cell_type": "code",
   "execution_count": 100,
   "metadata": {},
   "outputs": [
    {
     "data": {
      "text/html": [
       "<div>\n",
       "<style scoped>\n",
       "    .dataframe tbody tr th:only-of-type {\n",
       "        vertical-align: middle;\n",
       "    }\n",
       "\n",
       "    .dataframe tbody tr th {\n",
       "        vertical-align: top;\n",
       "    }\n",
       "\n",
       "    .dataframe thead th {\n",
       "        text-align: right;\n",
       "    }\n",
       "</style>\n",
       "<table border=\"1\" class=\"dataframe\">\n",
       "  <thead>\n",
       "    <tr style=\"text-align: right;\">\n",
       "      <th></th>\n",
       "      <th>High</th>\n",
       "      <th>Low</th>\n",
       "      <th>Open</th>\n",
       "      <th>Close</th>\n",
       "      <th>Volume</th>\n",
       "      <th>Adj Close</th>\n",
       "    </tr>\n",
       "    <tr>\n",
       "      <th>Date</th>\n",
       "      <th></th>\n",
       "      <th></th>\n",
       "      <th></th>\n",
       "      <th></th>\n",
       "      <th></th>\n",
       "      <th></th>\n",
       "    </tr>\n",
       "  </thead>\n",
       "  <tbody>\n",
       "    <tr>\n",
       "      <th>2015-01-02</th>\n",
       "      <td>206.880005</td>\n",
       "      <td>204.179993</td>\n",
       "      <td>206.380005</td>\n",
       "      <td>205.429993</td>\n",
       "      <td>121465900.0</td>\n",
       "      <td>184.260223</td>\n",
       "    </tr>\n",
       "    <tr>\n",
       "      <th>2015-01-05</th>\n",
       "      <td>204.369995</td>\n",
       "      <td>201.350006</td>\n",
       "      <td>204.169998</td>\n",
       "      <td>201.720001</td>\n",
       "      <td>169632600.0</td>\n",
       "      <td>180.932541</td>\n",
       "    </tr>\n",
       "    <tr>\n",
       "      <th>2015-01-06</th>\n",
       "      <td>202.720001</td>\n",
       "      <td>198.860001</td>\n",
       "      <td>202.089996</td>\n",
       "      <td>199.820007</td>\n",
       "      <td>209151400.0</td>\n",
       "      <td>179.228363</td>\n",
       "    </tr>\n",
       "    <tr>\n",
       "      <th>2015-01-07</th>\n",
       "      <td>202.720001</td>\n",
       "      <td>200.880005</td>\n",
       "      <td>201.419998</td>\n",
       "      <td>202.309998</td>\n",
       "      <td>125346700.0</td>\n",
       "      <td>181.461731</td>\n",
       "    </tr>\n",
       "    <tr>\n",
       "      <th>2015-01-08</th>\n",
       "      <td>206.160004</td>\n",
       "      <td>203.990005</td>\n",
       "      <td>204.009995</td>\n",
       "      <td>205.899994</td>\n",
       "      <td>147217800.0</td>\n",
       "      <td>184.681763</td>\n",
       "    </tr>\n",
       "  </tbody>\n",
       "</table>\n",
       "</div>"
      ],
      "text/plain": [
       "                  High         Low        Open       Close       Volume  \\\n",
       "Date                                                                      \n",
       "2015-01-02  206.880005  204.179993  206.380005  205.429993  121465900.0   \n",
       "2015-01-05  204.369995  201.350006  204.169998  201.720001  169632600.0   \n",
       "2015-01-06  202.720001  198.860001  202.089996  199.820007  209151400.0   \n",
       "2015-01-07  202.720001  200.880005  201.419998  202.309998  125346700.0   \n",
       "2015-01-08  206.160004  203.990005  204.009995  205.899994  147217800.0   \n",
       "\n",
       "             Adj Close  \n",
       "Date                    \n",
       "2015-01-02  184.260223  \n",
       "2015-01-05  180.932541  \n",
       "2015-01-06  179.228363  \n",
       "2015-01-07  181.461731  \n",
       "2015-01-08  184.681763  "
      ]
     },
     "execution_count": 100,
     "metadata": {},
     "output_type": "execute_result"
    }
   ],
   "source": [
    "# code for question 15\n",
    "spy_prices.head()"
   ]
  },
  {
   "cell_type": "markdown",
   "metadata": {},
   "source": [
    "**ANSWER FOR QUESTION 15**: \n",
    "\n",
    "Answer to 15(a): High, Low, Open, Close, Volume, Adj Close\n",
    "\n",
    "Answer to 15(b): From 2015-01-02 to 2015-01-08"
   ]
  },
  {
   "cell_type": "markdown",
   "metadata": {},
   "source": [
    "### 16. Retain only the Adjusted Close price in the `spy_prices` `DataFrame`. Call the resulting `Series` `spy_adjclose`."
   ]
  },
  {
   "cell_type": "code",
   "execution_count": 107,
   "metadata": {},
   "outputs": [],
   "source": [
    "# code for question 16\n",
    "spy_adjclose = spy_prices['Adj Close']"
   ]
  },
  {
   "cell_type": "markdown",
   "metadata": {},
   "source": [
    "### 17. Now, using the `pct_change` method in `pandas`, compute the returns on the Adjusted Close prices of SPY, and only retain the returns from '2019-01-01' to '2020-01-01'. Call the `Series` obtained `spy_returns`."
   ]
  },
  {
   "cell_type": "code",
   "execution_count": 108,
   "metadata": {},
   "outputs": [
    {
     "name": "stdout",
     "output_type": "stream",
     "text": [
      "Date\n",
      "2019-01-02    0.001040\n",
      "2019-01-03   -0.023863\n",
      "2019-01-04    0.033496\n",
      "2019-01-07    0.007885\n",
      "2019-01-08    0.009395\n",
      "                ...   \n",
      "2019-12-24    0.000031\n",
      "2019-12-26    0.005323\n",
      "2019-12-27   -0.000248\n",
      "2019-12-30   -0.005513\n",
      "2019-12-31    0.002429\n",
      "Name: Adj Close, Length: 252, dtype: float64\n"
     ]
    }
   ],
   "source": [
    "# code for question 17\n",
    "spy_returns = spy_adjclose.pct_change()\n",
    "spy_returns = spy_returns['2019-01-01':'2020-01-01']\n",
    "print (spy_returns)"
   ]
  },
  {
   "cell_type": "markdown",
   "metadata": {},
   "source": [
    "### 18. Perform SVD on `returns` data that contain assets from the S&P 500. Retain the left singular vector corresponding to the largest singular value and call is `u_sigma1`."
   ]
  },
  {
   "cell_type": "code",
   "execution_count": 109,
   "metadata": {},
   "outputs": [],
   "source": [
    "# code for question 18\n",
    "u,e,d = linalg.svd(returns)\n",
    "u_sigma1 = u.T[0]"
   ]
  },
  {
   "cell_type": "markdown",
   "metadata": {},
   "source": [
    "### 19. `u_sigma1` is thought to track the market. To test that, we will perform a regression of `spy_returns` against this first left singular vector by letting `y=spy_returns` and `x=u_sigma1` and computing\n",
    "\n",
    "### $$ y = \\beta_0 + \\beta_1 x$$\n",
    "### using least squares regression."
   ]
  },
  {
   "cell_type": "code",
   "execution_count": 110,
   "metadata": {},
   "outputs": [],
   "source": [
    "# code for question 19\n",
    "y = spy_returns\n",
    "x = u_sigma1\n",
    "coefficients,residual,r_squared = lin_reg(x,y)"
   ]
  },
  {
   "cell_type": "markdown",
   "metadata": {},
   "source": [
    "### 20. Plot the cumulative sum of the result from the regression on top of the cumulative sum of `spy_returns`. What do you notice?"
   ]
  },
  {
   "cell_type": "code",
   "execution_count": 111,
   "metadata": {},
   "outputs": [
    {
     "data": {
      "text/plain": [
       "[<matplotlib.lines.Line2D at 0x7f7c8c119eb0>]"
      ]
     },
     "execution_count": 111,
     "metadata": {},
     "output_type": "execute_result"
    },
    {
     "data": {
      "image/png": "[encoded data removed]",
      "text/plain": [
       "<Figure size 432x288 with 1 Axes>"
      ]
     },
     "metadata": {
      "needs_background": "light"
     },
     "output_type": "display_data"
    }
   ],
   "source": [
    "# code for question 20\n",
    "line3 = coefficients[0] + coefficients[1]*x\n",
    "plt.plot(line3.cumsum())\n",
    "plt.plot(y.cumsum())"
   ]
  },
  {
   "cell_type": "markdown",
   "metadata": {},
   "source": [
    "**ANSWER FOR QUESTION 20**:\n",
    "\n",
    "Generally, by observing the two graphs,the spy_returns and regression graphs look similar;\n",
    "\n",
    "The R sqaured value is 0.89 (very close to 1);\n",
    "\n",
    "The correlation is strong."
   ]
  },
  {
   "cell_type": "markdown",
   "metadata": {},
   "source": [
    "# Congratulations! You have just implemented your first statistical Capital Asset Pricing Model (CAPM) to the S&P 500 market."
   ]
  }
 ],
 "metadata": {
  "colab": {
   "collapsed_sections": [],
   "name": "colab-tutorial.ipynb",
   "provenance": []
  },
  "kernelspec": {
   "display_name": "Python 3 (ipykernel)",
   "language": "python",
   "name": "python3"
  },
  "language_info": {
   "codemirror_mode": {
    "name": "ipython",
    "version": 3
   },
   "file_extension": ".py",
   "mimetype": "text/x-python",
   "name": "python",
   "nbconvert_exporter": "python",
   "pygments_lexer": "ipython3",
   "version": "3.9.7"
  }
 },
 "nbformat": 4,
 "nbformat_minor": 1
}
